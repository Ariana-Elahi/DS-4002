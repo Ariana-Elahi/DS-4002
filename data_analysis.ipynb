{
 "cells": [
  {
   "cell_type": "code",
   "execution_count": 1,
   "metadata": {},
   "outputs": [],
   "source": [
    "import pandas as pd\n",
    "import numpy as np\n",
    "import matplotlib.pyplot as plt\n",
    "import seaborn as sns"
   ]
  },
  {
   "cell_type": "code",
   "execution_count": 2,
   "metadata": {},
   "outputs": [
    {
     "data": {
      "text/html": [
       "<div>\n",
       "<style scoped>\n",
       "    .dataframe tbody tr th:only-of-type {\n",
       "        vertical-align: middle;\n",
       "    }\n",
       "\n",
       "    .dataframe tbody tr th {\n",
       "        vertical-align: top;\n",
       "    }\n",
       "\n",
       "    .dataframe thead th {\n",
       "        text-align: right;\n",
       "    }\n",
       "</style>\n",
       "<table border=\"1\" class=\"dataframe\">\n",
       "  <thead>\n",
       "    <tr style=\"text-align: right;\">\n",
       "      <th></th>\n",
       "      <th>Timestamp</th>\n",
       "      <th>Do you believe that a hotdog falls under the category of a sandwich?</th>\n",
       "      <th>What is the rationale behind your opinion?</th>\n",
       "      <th>Are you currently enrolled as an undergraduate or graduate student at the University of Virginia?</th>\n",
       "      <th>What is your field of study or major?</th>\n",
       "      <th>What state or country were you born in?</th>\n",
       "      <th>If you are an undergraduate, what is your current academic year?</th>\n",
       "      <th>Gender: How do you identify?</th>\n",
       "      <th>You preferred to self-describe for gender; please, share your identity below</th>\n",
       "    </tr>\n",
       "  </thead>\n",
       "  <tbody>\n",
       "    <tr>\n",
       "      <th>0</th>\n",
       "      <td>1/15/2025 21:53:05</td>\n",
       "      <td>No</td>\n",
       "      <td>The content inside isn’t covered u can see the...</td>\n",
       "      <td>Yes</td>\n",
       "      <td>Applied statistics with data science conc + da...</td>\n",
       "      <td>VA, USA</td>\n",
       "      <td>Third year</td>\n",
       "      <td>Woman</td>\n",
       "      <td>NaN</td>\n",
       "    </tr>\n",
       "    <tr>\n",
       "      <th>1</th>\n",
       "      <td>1/15/2025 21:53:51</td>\n",
       "      <td>No</td>\n",
       "      <td>Sandwich bread is two separate slices, hotdog ...</td>\n",
       "      <td>Yes</td>\n",
       "      <td>Economics/Pre-Comm</td>\n",
       "      <td>Virginia, United States of America</td>\n",
       "      <td>Second year</td>\n",
       "      <td>Woman</td>\n",
       "      <td>NaN</td>\n",
       "    </tr>\n",
       "    <tr>\n",
       "      <th>2</th>\n",
       "      <td>1/15/2025 21:54:43</td>\n",
       "      <td>No</td>\n",
       "      <td>the bread is connected</td>\n",
       "      <td>Yes</td>\n",
       "      <td>biology</td>\n",
       "      <td>virginia</td>\n",
       "      <td>Third year</td>\n",
       "      <td>Woman</td>\n",
       "      <td>NaN</td>\n",
       "    </tr>\n",
       "    <tr>\n",
       "      <th>3</th>\n",
       "      <td>1/15/2025 21:56:43</td>\n",
       "      <td>Yesss</td>\n",
       "      <td>It is a piece of meat encapsulated by bread! I...</td>\n",
       "      <td>Yes</td>\n",
       "      <td>Biology and Psychology</td>\n",
       "      <td>Virginia</td>\n",
       "      <td>Fourth year</td>\n",
       "      <td>Woman</td>\n",
       "      <td>NaN</td>\n",
       "    </tr>\n",
       "    <tr>\n",
       "      <th>4</th>\n",
       "      <td>1/15/2025 21:57:59</td>\n",
       "      <td>NO</td>\n",
       "      <td>A hot dog is not a sandwich because its openin...</td>\n",
       "      <td>Yes</td>\n",
       "      <td>Nursing</td>\n",
       "      <td>Virginia</td>\n",
       "      <td>Second year</td>\n",
       "      <td>Woman</td>\n",
       "      <td>NaN</td>\n",
       "    </tr>\n",
       "    <tr>\n",
       "      <th>5</th>\n",
       "      <td>1/15/2025 21:59:34</td>\n",
       "      <td>Yes</td>\n",
       "      <td>Is a load cut in half and loaded with somethin...</td>\n",
       "      <td>Yes</td>\n",
       "      <td>Mechanical engineering</td>\n",
       "      <td>Vietnam</td>\n",
       "      <td>Second year</td>\n",
       "      <td>Woman</td>\n",
       "      <td>She her</td>\n",
       "    </tr>\n",
       "    <tr>\n",
       "      <th>6</th>\n",
       "      <td>1/15/2025 21:59:52</td>\n",
       "      <td>No</td>\n",
       "      <td>It's does not have two slices of bread around it</td>\n",
       "      <td>Yes</td>\n",
       "      <td>Biochemistry</td>\n",
       "      <td>Ghana</td>\n",
       "      <td>First year</td>\n",
       "      <td>Woman</td>\n",
       "      <td>NaN</td>\n",
       "    </tr>\n",
       "    <tr>\n",
       "      <th>7</th>\n",
       "      <td>1/15/2025 22:00:02</td>\n",
       "      <td>No</td>\n",
       "      <td>when you take away the bread/bun, the contents...</td>\n",
       "      <td>Yes</td>\n",
       "      <td>women gender and sexuality studies</td>\n",
       "      <td>virginia, u.s</td>\n",
       "      <td>Fourth year</td>\n",
       "      <td>Woman</td>\n",
       "      <td>NaN</td>\n",
       "    </tr>\n",
       "    <tr>\n",
       "      <th>8</th>\n",
       "      <td>1/15/2025 22:00:08</td>\n",
       "      <td>Nope</td>\n",
       "      <td>The bread is connected</td>\n",
       "      <td>Yes</td>\n",
       "      <td>Pre Med</td>\n",
       "      <td>United States</td>\n",
       "      <td>First year</td>\n",
       "      <td>Man</td>\n",
       "      <td>NaN</td>\n",
       "    </tr>\n",
       "    <tr>\n",
       "      <th>9</th>\n",
       "      <td>1/15/2025 22:00:33</td>\n",
       "      <td>Yes</td>\n",
       "      <td>Idk, seems right\\nalso, 2 bread w/ stuff in it</td>\n",
       "      <td>Yes</td>\n",
       "      <td>Physics + Mathematics</td>\n",
       "      <td>Louisiana</td>\n",
       "      <td>Second year</td>\n",
       "      <td>Man</td>\n",
       "      <td>NaN</td>\n",
       "    </tr>\n",
       "  </tbody>\n",
       "</table>\n",
       "</div>"
      ],
      "text/plain": [
       "            Timestamp  \\\n",
       "0  1/15/2025 21:53:05   \n",
       "1  1/15/2025 21:53:51   \n",
       "2  1/15/2025 21:54:43   \n",
       "3  1/15/2025 21:56:43   \n",
       "4  1/15/2025 21:57:59   \n",
       "5  1/15/2025 21:59:34   \n",
       "6  1/15/2025 21:59:52   \n",
       "7  1/15/2025 22:00:02   \n",
       "8  1/15/2025 22:00:08   \n",
       "9  1/15/2025 22:00:33   \n",
       "\n",
       "  Do you believe that a hotdog falls under the category of a sandwich?  \\\n",
       "0                                                 No                     \n",
       "1                                                 No                     \n",
       "2                                                 No                     \n",
       "3                                              Yesss                     \n",
       "4                                                 NO                     \n",
       "5                                                Yes                     \n",
       "6                                                 No                     \n",
       "7                                                 No                     \n",
       "8                                               Nope                     \n",
       "9                                                Yes                     \n",
       "\n",
       "          What is the rationale behind your opinion?  \\\n",
       "0  The content inside isn’t covered u can see the...   \n",
       "1  Sandwich bread is two separate slices, hotdog ...   \n",
       "2                             the bread is connected   \n",
       "3  It is a piece of meat encapsulated by bread! I...   \n",
       "4  A hot dog is not a sandwich because its openin...   \n",
       "5  Is a load cut in half and loaded with somethin...   \n",
       "6   It's does not have two slices of bread around it   \n",
       "7  when you take away the bread/bun, the contents...   \n",
       "8                            The bread is connected    \n",
       "9     Idk, seems right\\nalso, 2 bread w/ stuff in it   \n",
       "\n",
       "  Are you currently enrolled as an undergraduate or graduate student at the University of Virginia?  \\\n",
       "0                                                Yes                                                  \n",
       "1                                                Yes                                                  \n",
       "2                                                Yes                                                  \n",
       "3                                                Yes                                                  \n",
       "4                                                Yes                                                  \n",
       "5                                                Yes                                                  \n",
       "6                                                Yes                                                  \n",
       "7                                                Yes                                                  \n",
       "8                                                Yes                                                  \n",
       "9                                                Yes                                                  \n",
       "\n",
       "               What is your field of study or major?  \\\n",
       "0  Applied statistics with data science conc + da...   \n",
       "1                                 Economics/Pre-Comm   \n",
       "2                                            biology   \n",
       "3                             Biology and Psychology   \n",
       "4                                            Nursing   \n",
       "5                            Mechanical engineering    \n",
       "6                                      Biochemistry    \n",
       "7                 women gender and sexuality studies   \n",
       "8                                            Pre Med   \n",
       "9                              Physics + Mathematics   \n",
       "\n",
       "  What state or country were you born in?  \\\n",
       "0                                 VA, USA   \n",
       "1      Virginia, United States of America   \n",
       "2                                virginia   \n",
       "3                                Virginia   \n",
       "4                                Virginia   \n",
       "5                                 Vietnam   \n",
       "6                                   Ghana   \n",
       "7                           virginia, u.s   \n",
       "8                           United States   \n",
       "9                               Louisiana   \n",
       "\n",
       "  If you are an undergraduate, what is your current academic year?  \\\n",
       "0                                         Third year                 \n",
       "1                                        Second year                 \n",
       "2                                         Third year                 \n",
       "3                                        Fourth year                 \n",
       "4                                        Second year                 \n",
       "5                                        Second year                 \n",
       "6                                         First year                 \n",
       "7                                        Fourth year                 \n",
       "8                                         First year                 \n",
       "9                                        Second year                 \n",
       "\n",
       "  Gender: How do you identify?  \\\n",
       "0                        Woman   \n",
       "1                        Woman   \n",
       "2                        Woman   \n",
       "3                        Woman   \n",
       "4                        Woman   \n",
       "5                        Woman   \n",
       "6                        Woman   \n",
       "7                        Woman   \n",
       "8                          Man   \n",
       "9                          Man   \n",
       "\n",
       "  You preferred to self-describe for gender; please, share your identity below  \n",
       "0                                                NaN                            \n",
       "1                                                NaN                            \n",
       "2                                                NaN                            \n",
       "3                                                NaN                            \n",
       "4                                                NaN                            \n",
       "5                                            She her                            \n",
       "6                                                NaN                            \n",
       "7                                                NaN                            \n",
       "8                                                NaN                            \n",
       "9                                                NaN                            "
      ]
     },
     "execution_count": 2,
     "metadata": {},
     "output_type": "execute_result"
    }
   ],
   "source": [
    "df = pd.read_csv('./hot-dog-survey-data/hot_dog_survey_spring25.xlsx - Form Responses 1.csv')\n",
    "df.head(10)"
   ]
  },
  {
   "cell_type": "code",
   "execution_count": 3,
   "metadata": {},
   "outputs": [
    {
     "name": "stdout",
     "output_type": "stream",
     "text": [
      "<class 'pandas.core.frame.DataFrame'>\n",
      "RangeIndex: 64 entries, 0 to 63\n",
      "Data columns (total 9 columns):\n",
      " #   Column                                                                                             Non-Null Count  Dtype \n",
      "---  ------                                                                                             --------------  ----- \n",
      " 0   Timestamp                                                                                          64 non-null     object\n",
      " 1   Do you believe that a hotdog falls under the category of a sandwich?                               64 non-null     object\n",
      " 2   What is the rationale behind your opinion?                                                         61 non-null     object\n",
      " 3   Are you currently enrolled as an undergraduate or graduate student at the University of Virginia?  64 non-null     object\n",
      " 4   What is your field of study or major?                                                              61 non-null     object\n",
      " 5   What state or country were you born in?                                                            62 non-null     object\n",
      " 6   If you are an undergraduate, what is your current academic year?                                   55 non-null     object\n",
      " 7   Gender: How do you identify?                                                                       63 non-null     object\n",
      " 8   You preferred to self-describe for gender; please, share your identity below                       3 non-null      object\n",
      "dtypes: object(9)\n",
      "memory usage: 4.6+ KB\n"
     ]
    }
   ],
   "source": [
    "df.info()"
   ]
  },
  {
   "cell_type": "code",
   "execution_count": 4,
   "metadata": {},
   "outputs": [
    {
     "data": {
      "text/plain": [
       "Are you currently enrolled as an undergraduate or graduate student at the University of Virginia?\n",
       "Yes    58\n",
       "No      6\n",
       "Name: count, dtype: int64"
      ]
     },
     "execution_count": 4,
     "metadata": {},
     "output_type": "execute_result"
    }
   ],
   "source": [
    "df['Are you currently enrolled as an undergraduate or graduate student at the University of Virginia?'].value_counts()"
   ]
  },
  {
   "cell_type": "code",
   "execution_count": 5,
   "metadata": {},
   "outputs": [],
   "source": [
    "df = df[df['Are you currently enrolled as an undergraduate or graduate student at the University of Virginia?'] == 'Yes']"
   ]
  },
  {
   "cell_type": "code",
   "execution_count": 6,
   "metadata": {},
   "outputs": [
    {
     "data": {
      "text/plain": [
       "Are you currently enrolled as an undergraduate or graduate student at the University of Virginia?\n",
       "Yes    58\n",
       "Name: count, dtype: int64"
      ]
     },
     "execution_count": 6,
     "metadata": {},
     "output_type": "execute_result"
    }
   ],
   "source": [
    "df['Are you currently enrolled as an undergraduate or graduate student at the University of Virginia?'].value_counts()"
   ]
  },
  {
   "cell_type": "code",
   "execution_count": 7,
   "metadata": {},
   "outputs": [
    {
     "data": {
      "text/plain": [
       "If you are an undergraduate, what is your current academic year?\n",
       "Fourth year    24\n",
       "Third year     16\n",
       "Second year     9\n",
       "First year      5\n",
       "Name: count, dtype: int64"
      ]
     },
     "execution_count": 7,
     "metadata": {},
     "output_type": "execute_result"
    }
   ],
   "source": [
    "df['If you are an undergraduate, what is your current academic year?'].value_counts()"
   ]
  },
  {
   "cell_type": "code",
   "execution_count": 8,
   "metadata": {},
   "outputs": [],
   "source": [
    "df = df[df['If you are an undergraduate, what is your current academic year?'].notna()]"
   ]
  },
  {
   "cell_type": "code",
   "execution_count": 9,
   "metadata": {},
   "outputs": [
    {
     "data": {
      "text/plain": [
       "If you are an undergraduate, what is your current academic year?\n",
       "Fourth year    24\n",
       "Third year     16\n",
       "Second year     9\n",
       "First year      5\n",
       "Name: count, dtype: int64"
      ]
     },
     "execution_count": 9,
     "metadata": {},
     "output_type": "execute_result"
    }
   ],
   "source": [
    "df['If you are an undergraduate, what is your current academic year?'].value_counts()"
   ]
  },
  {
   "cell_type": "code",
   "execution_count": 10,
   "metadata": {},
   "outputs": [
    {
     "data": {
      "text/plain": [
       "Do you believe that a hotdog falls under the category of a sandwich?\n",
       "No           24\n",
       "Yes          12\n",
       "NO            3\n",
       "YES           2\n",
       "Yes           2\n",
       "yes           2\n",
       "no            2\n",
       "Yesss         1\n",
       "Nope          1\n",
       "N             1\n",
       "Noooo         1\n",
       "Yesssssss     1\n",
       "Y             1\n",
       "No            1\n",
       "Name: count, dtype: int64"
      ]
     },
     "execution_count": 10,
     "metadata": {},
     "output_type": "execute_result"
    }
   ],
   "source": [
    "df['Do you believe that a hotdog falls under the category of a sandwich?'].value_counts()"
   ]
  },
  {
   "cell_type": "code",
   "execution_count": 11,
   "metadata": {},
   "outputs": [],
   "source": [
    "# replace values NO, N, no, Nope, Noooo with No\n",
    "response = 'Do you believe that a hotdog falls under the category of a sandwich?'\n",
    "df[response] = df[response].replace(['NO', 'N', 'no', 'Nope', 'Noooo', 'No '], 'No')\n",
    "df[response] = df[response].replace(['YES', 'yes', 'Yesss', 'Yeah', 'Yesssssss', 'Y', 'Yes '], 'Yes')"
   ]
  },
  {
   "cell_type": "code",
   "execution_count": 12,
   "metadata": {},
   "outputs": [
    {
     "data": {
      "text/plain": [
       "Do you believe that a hotdog falls under the category of a sandwich?\n",
       "No     33\n",
       "Yes    21\n",
       "Name: count, dtype: int64"
      ]
     },
     "execution_count": 12,
     "metadata": {},
     "output_type": "execute_result"
    }
   ],
   "source": [
    "df['Do you believe that a hotdog falls under the category of a sandwich?'].value_counts()"
   ]
  },
  {
   "cell_type": "code",
   "execution_count": 13,
   "metadata": {},
   "outputs": [
    {
     "name": "stdout",
     "output_type": "stream",
     "text": [
      "<class 'pandas.core.frame.DataFrame'>\n",
      "Index: 54 entries, 0 to 63\n",
      "Data columns (total 9 columns):\n",
      " #   Column                                                                                             Non-Null Count  Dtype \n",
      "---  ------                                                                                             --------------  ----- \n",
      " 0   Timestamp                                                                                          54 non-null     object\n",
      " 1   Do you believe that a hotdog falls under the category of a sandwich?                               54 non-null     object\n",
      " 2   What is the rationale behind your opinion?                                                         52 non-null     object\n",
      " 3   Are you currently enrolled as an undergraduate or graduate student at the University of Virginia?  54 non-null     object\n",
      " 4   What is your field of study or major?                                                              53 non-null     object\n",
      " 5   What state or country were you born in?                                                            53 non-null     object\n",
      " 6   If you are an undergraduate, what is your current academic year?                                   54 non-null     object\n",
      " 7   Gender: How do you identify?                                                                       54 non-null     object\n",
      " 8   You preferred to self-describe for gender; please, share your identity below                       3 non-null      object\n",
      "dtypes: object(9)\n",
      "memory usage: 4.2+ KB\n"
     ]
    }
   ],
   "source": [
    "df.info()"
   ]
  },
  {
   "cell_type": "code",
   "execution_count": null,
   "metadata": {},
   "outputs": [
    {
     "data": {
      "image/png": "[encoded data removed]",
      "text/plain": [
       "<Figure size 1000x600 with 1 Axes>"
      ]
     },
     "metadata": {},
     "output_type": "display_data"
    }
   ],
   "source": [
    "plt.figure(figsize=(10, 6))\n",
    "sns.countplot(data=df, x='If you are an undergraduate, what is your current academic year?', hue='Do you believe that a hotdog falls under the category of a sandwich?')\n",
    "plt.title('Student Responses on Whether or Not a Hot Dog Is a Sandwich by Academic Year')\n",
    "plt.show()"
   ]
  },
  {
   "cell_type": "code",
   "execution_count": 34,
   "metadata": {},
   "outputs": [
    {
     "data": {
      "text/plain": [
       "Do you believe that a hotdog falls under the category of a sandwich?\n",
       "Yes    12\n",
       "No     12\n",
       "Name: count, dtype: int64"
      ]
     },
     "execution_count": 34,
     "metadata": {},
     "output_type": "execute_result"
    }
   ],
   "source": [
    "filtered_df = df[df['If you are an undergraduate, what is your current academic year?'] == 'Fourth year']\n",
    "filtered_df['Do you believe that a hotdog falls under the category of a sandwich?'].value_counts()"
   ]
  },
  {
   "cell_type": "code",
   "execution_count": 36,
   "metadata": {},
   "outputs": [
    {
     "data": {
      "text/plain": [
       "Gender: How do you identify?\n",
       "Woman                      31\n",
       "Man                        18\n",
       "Non-binary                  4\n",
       "Prefer to self-describe     1\n",
       "Name: count, dtype: int64"
      ]
     },
     "execution_count": 36,
     "metadata": {},
     "output_type": "execute_result"
    }
   ],
   "source": [
    "df[\"Gender: How do you identify?\"].value_counts()"
   ]
  },
  {
   "cell_type": "code",
   "execution_count": null,
   "metadata": {},
   "outputs": [
    {
     "data": {
      "image/png": "[encoded data removed]",
      "text/plain": [
       "<Figure size 1000x600 with 1 Axes>"
      ]
     },
     "metadata": {},
     "output_type": "display_data"
    }
   ],
   "source": [
    "plt.figure(figsize=(10, 6))\n",
    "sns.countplot(data=df, x='Gender: How do you identify?', hue='Do you believe that a hotdog falls under the category of a sandwich?')\n",
    "plt.title('Student Responses on Whether or Not a Hot Dog Is a Sandwich by Gender')\n",
    "plt.show()"
   ]
  }
 ],
 "metadata": {
  "kernelspec": {
   "display_name": "datascience",
   "language": "python",
   "name": "python3"
  },
  "language_info": {
   "codemirror_mode": {
    "name": "ipython",
    "version": 3
   },
   "file_extension": ".py",
   "mimetype": "text/x-python",
   "name": "python",
   "nbconvert_exporter": "python",
   "pygments_lexer": "ipython3",
   "version": "3.11.8"
  }
 },
 "nbformat": 4,
 "nbformat_minor": 2
}
